{
  "nbformat": 4,
  "nbformat_minor": 0,
  "metadata": {
    "colab": {
      "provenance": []
    },
    "kernelspec": {
      "name": "python3",
      "display_name": "Python 3"
    },
    "language_info": {
      "name": "python"
    }
  },
  "cells": [
    {
      "cell_type": "markdown",
      "source": [
        "## **Name**          : Cheruvu Surya Sai Ram\n",
        "## **Roll Number**   : 19EC39008\n",
        "## **Project Code**  : EOHC-DC\n",
        "## **Project Title** : Economic Outlook Categorization using Complete Linkage Divisive (Top-Down) Clustering Technique"
      ],
      "metadata": {
        "id": "ItvUkToJNx2H"
      }
    },
    {
      "cell_type": "markdown",
      "source": [
        "###**Importing required libraries**"
      ],
      "metadata": {
        "id": "amL2rJuPyTyV"
      }
    },
    {
      "cell_type": "code",
      "execution_count": 330,
      "metadata": {
        "id": "Jb8tPidK77iG"
      },
      "outputs": [],
      "source": [
        "#All the required libraries are imported here\n",
        "import numpy as np\n",
        "import pandas as pd\n",
        "import math\n",
        "import matplotlib.pyplot as plt"
      ]
    },
    {
      "cell_type": "markdown",
      "source": [
        "#####Function for **outlier removal** in the dataset"
      ],
      "metadata": {
        "id": "LDFVjzaHNDg7"
      }
    },
    {
      "cell_type": "code",
      "source": [
        "def outlier_removal(frame) :\n",
        "  frame1 = frame.copy()\n",
        "  for column in frame1.columns[2:]:                                #the first two columns are categorical\n",
        "    mu = frame1[column].mean()\n",
        "    sigma = frame1[column].std()\n",
        "    frame1 = frame1[~((frame1[column] - mu).abs() > 3 * sigma)]   \n",
        "    frame1 = frame1.reset_index(drop=True)\n",
        "  return frame1"
      ],
      "metadata": {
        "id": "jLIGkbVjI9oO"
      },
      "execution_count": 331,
      "outputs": []
    },
    {
      "cell_type": "markdown",
      "source": [
        "#####Function that **standardizes** the input dataframe"
      ],
      "metadata": {
        "id": "1pTisN0i2gts"
      }
    },
    {
      "cell_type": "code",
      "source": [
        "def standardize(frame) :\n",
        "  frame1 = frame.copy()\n",
        "  for column in frame1.columns:\n",
        "    mu = frame1[column].mean()                      #mean\n",
        "    sigma = frame1[column].std()                    #standard deviation\n",
        "    frame1[column] = (frame1[column] - mu) / sigma\n",
        "  return frame1"
      ],
      "metadata": {
        "id": "l6HOY6Ui1R1d"
      },
      "execution_count": 332,
      "outputs": []
    },
    {
      "cell_type": "markdown",
      "source": [
        "#####Function to calculate the **distance** between two feature vectors using **cosine similarity**"
      ],
      "metadata": {
        "id": "DljlMU702w7f"
      }
    },
    {
      "cell_type": "code",
      "source": [
        "def cos_dist(x1, x2) :\n",
        "  #calculating the norms\n",
        "  norm1 = np.linalg.norm(x1)\n",
        "  norm2 = np.linalg.norm(x2)\n",
        "\n",
        "  #handling overflow case\n",
        "  if norm1==0 or norm2==0 :\n",
        "    return 1\n",
        "  #distance is calculated as 1-similarity\n",
        "  else:\n",
        "    return 1-((np.dot(x1,x2))/(norm1*norm2))   "
      ],
      "metadata": {
        "id": "yylTFOGE2Muh"
      },
      "execution_count": 333,
      "outputs": []
    },
    {
      "cell_type": "markdown",
      "source": [
        "#####Function to perform **K Means Clustering** on input dataset given the values of number of clusters and maximum number of iterations"
      ],
      "metadata": {
        "id": "qdB9Q-xL3Tb8"
      }
    },
    {
      "cell_type": "code",
      "source": [
        "def KMeans(X, k=3, max_iter=20) :\n",
        "  n,m = X.shape  \n",
        "  np.random.seed(123)                                #setting a seed value\n",
        "  ind = np.random.choice(n,k,replace=False)      \n",
        "  means = X[ind]                                     #choosing k distinct centres randomly\n",
        "\n",
        "  dist = np.zeros((n,k))\n",
        "  clusters = np.zeros(n, dtype = np.int64)           #used for storing the cluster label of every sample\n",
        "\n",
        "  #Iterating for the given number of iterations\n",
        "  #In the question, it is said to do it for 20 iterations\n",
        "  for iteration in range(max_iter) :\n",
        "    for i in range(n) :\n",
        "      for j in range(k) :\n",
        "        dist[i][j] = cos_dist(X[i],means[j])         #calculating the distance of every sample from every centre\n",
        "\n",
        "    for i in range(n) :\n",
        "      clusters[i] = np.argmin(dist[i])               #finding the centre at the minimum distance and accordingly assigning the cluster\n",
        "\n",
        "    for i in range(k) :\n",
        "      means[i] = np.mean(X[clusters==i], axis=0)     #updating the centres\n",
        "\n",
        "  #Converting the cluster of every sample into sets of clusters\n",
        "  #Initialization\n",
        "  cluster_set = []\n",
        "  for i in range(k) :\n",
        "    cluster_set.append([])\n",
        "  #Forming sets of clusters\n",
        "  for i in range(n) :\n",
        "    cluster_set[clusters[i]].append(i)\n",
        "\n",
        "  #Saving a .txt file with cluster information in the given format\n",
        "  f = open('K_means_'+str(k)+'.txt','w')\n",
        "  cluster_set.sort(key=min)\n",
        "  for c in cluster_set:\n",
        "    sorted_c = sorted(c)\n",
        "    f.write(','.join(str(i) for i in sorted_c) + '\\n')\n",
        "\n",
        "  #both cluster labels and sets of clusters are returned\n",
        "  return clusters, cluster_set"
      ],
      "metadata": {
        "id": "AVWx7FQt3HGB"
      },
      "execution_count": 334,
      "outputs": []
    },
    {
      "cell_type": "markdown",
      "source": [
        "#####Function to calculate the **Silhouette Coefficient** given the dataset and cluster information"
      ],
      "metadata": {
        "id": "3EMkoRS05JYr"
      }
    },
    {
      "cell_type": "code",
      "source": [
        "def SC(X, labels) :\n",
        "  n, m = X.shape\n",
        "  clusters = np.unique(labels)\n",
        "  cluster_num = len(clusters)\n",
        "\n",
        "  #Calculating the pairwise distances between every two data points\n",
        "  dist = np.zeros((n,n))\n",
        "  for i in range(n) :\n",
        "    for j in range(n) :\n",
        "      dist[i][j] = cos_dist(X[i],X[j])\n",
        "\n",
        "  #Calculating the intra cluster distance for each point\n",
        "  array_a = np.zeros(n)\n",
        "  for i in range(n) :\n",
        "    cluster = labels[i]\n",
        "    array_a[i] = np.mean(dist[i][labels==cluster])\n",
        "\n",
        "  #Calculating the distance of each point with next nearest clsuter\n",
        "  array_b = np.zeros(n)\n",
        "  for i in range(n) :\n",
        "    cluster = int(labels[i])\n",
        "    mask = np.ones(cluster_num, dtype=bool)\n",
        "    mask[cluster] = False\n",
        "    array_b[i] = np.min([np.mean(dist[i][labels == c]) for c in clusters[mask]])\n",
        "\n",
        "  #calculating Silhouette Coefficient for each data point\n",
        "  sc = np.zeros(n)\n",
        "  for i in range(n) :\n",
        "    sc[i] = (array_b[i]-array_a[i])/max(array_a[i],array_b[i])\n",
        "\n",
        "  return np.mean(sc)\n",
        "\n"
      ],
      "metadata": {
        "id": "mn1T2fVP5Bxe"
      },
      "execution_count": 335,
      "outputs": []
    },
    {
      "cell_type": "markdown",
      "source": [
        "#####Function to calculate the **optimal value of k** out of 3,4,5 and 6 using the obtained Silhouette Scores"
      ],
      "metadata": {
        "id": "klxp_q7W9Dad"
      }
    },
    {
      "cell_type": "code",
      "source": [
        "def find_best_k (X) :\n",
        "  sc_max=-1                           #initializing best Silhouette score with the least value\n",
        "  for k in [3,4,5,6] :\n",
        "    clustering = KMeans(X, k)         #performing K Means clustering\n",
        "    sc = SC(X, clustering[0])         #we use the first return value for Silhouette Score calculation\n",
        "    print(f'\\nThe Silhouette Score on using k = {k} is {sc : .6f}')\n",
        "\n",
        "    #Updating the value of best_k according to the obtained Silhouette Score\n",
        "    if sc>sc_max :\n",
        "      sc_max = sc\n",
        "      best_k = k\n",
        "  return best_k"
      ],
      "metadata": {
        "id": "dyVWTyvp7WDK"
      },
      "execution_count": 336,
      "outputs": []
    },
    {
      "cell_type": "markdown",
      "source": [
        "#####Function to perform **Complete Linkage Divisive Clustering** on input dataset given the number of clusters"
      ],
      "metadata": {
        "id": "yyWy98Fv_vMV"
      }
    },
    {
      "cell_type": "code",
      "source": [
        "def CLDC(X, k):\n",
        "    n_points, n_features = X.shape\n",
        "    cluster_set = [list(range(n_points))]                        #single cluster containing all points\n",
        "\n",
        "    while len(cluster_set) < k:                                  #stop when k clusters are obtained\n",
        "        #Variables required for intermediate computation\n",
        "        p = 0\n",
        "        q = 0\n",
        "        split = None\n",
        "        maxval = -np.inf\n",
        "\n",
        "        #Iterating through the set of clusters\n",
        "        for i, c in enumerate(cluster_set):\n",
        "            n = len(c)                      \n",
        "            dist = np.zeros((n,n))\n",
        "            #Calculating the distance between every pair of points in the cluster\n",
        "            for u in range(n) :\n",
        "              for v in range(n) :\n",
        "                dist[u][v] = cos_dist(X[c[u]],X[c[v]])\n",
        "            \n",
        "            #COMPLETE LINKAGE\n",
        "            #Finding the maximum distance and the corresponding points\n",
        "            if np.max(dist) > maxval:\n",
        "                split = i                                         #storing the cluster to be split\n",
        "                p, q = np.unravel_index(dist.argmax(), dist.shape)\n",
        "                maxval = np.max(dist)\n",
        "\n",
        "        #DIVISIVE CLUSTERING\n",
        "        #Splitting the selected cluster\n",
        "        c1 = []\n",
        "        c2 = []\n",
        "        for i in cluster_set[split]:\n",
        "            #assigning a point to a cluster based on to which point it is nearest to\n",
        "            if cos_dist(X[i], X[cluster_set[split][q]]) < cos_dist(X[i], X[cluster_set[split][p]]) :\n",
        "                c1.append(i)\n",
        "            else:\n",
        "                c2.append(i)\n",
        "        # Remove the splitted cluster and add the new generated clusters\n",
        "        cluster_set.append(c1)\n",
        "        cluster_set.append(c2)\n",
        "        del cluster_set[split]\n",
        "\n",
        "    #Saving a .txt file with cluster information in the given format\n",
        "    f = open('Divisive_'+str(k)+'.txt','w')\n",
        "    cluster_set.sort(key=min)\n",
        "    for c in cluster_set:\n",
        "      sorted_c = sorted(c)\n",
        "      f.write(','.join(str(i) for i in sorted_c) + '\\n')\n",
        "\n",
        "    #Converting the set of clusters into cluster label of each point\n",
        "    clusters = np.zeros(n_points, dtype=np.int64)\n",
        "    for i, point in enumerate(cluster_set):\n",
        "      clusters[point] = i\n",
        "\n",
        "    return clusters, cluster_set"
      ],
      "metadata": {
        "id": "nukmRx0Y_prj"
      },
      "execution_count": 337,
      "outputs": []
    },
    {
      "cell_type": "markdown",
      "source": [
        "#####Function to calculate the **Jaccard Similarity** of 2 arrays"
      ],
      "metadata": {
        "id": "rc4kLWr09PTT"
      }
    },
    {
      "cell_type": "code",
      "source": [
        "def jaccard_sim(array1, array2) :\n",
        "  array1 = np.array(array1)\n",
        "  array2 = np.array(array2)\n",
        "  intersection = np.intersect1d(array1, array2)         #calculation of intersection\n",
        "  union = np.union1d(array1, array2)                    #calculation of union\n",
        "  return float(len(intersection)) / len(union)"
      ],
      "metadata": {
        "id": "Mh6aTjZW8444"
      },
      "execution_count": 338,
      "outputs": []
    },
    {
      "cell_type": "markdown",
      "source": [
        "#####Function to **map the corresponding sets of clusters** using **Jaccard Similarity** and then calculating the Jaccard Similarity values"
      ],
      "metadata": {
        "id": "k-vMZZ5u9k2o"
      }
    },
    {
      "cell_type": "code",
      "source": [
        "def mapping_Jaccard(clustering1, clustering2) :               #The inputs are sets of clusters\n",
        "  n = len(clustering1)                                        #number of clusters\n",
        "  mapping = np.zeros(n, dtype=np.int64)                       #stores mapping of cluster set with another cluster set\n",
        "\n",
        "  #Finding the corresponding set of cluster using maximum Jaccard Similarity\n",
        "  for i in range(n) :\n",
        "    sim = -1\n",
        "    for j in range(n) :\n",
        "      if jaccard_sim(clustering1[i], clustering2[j]) > sim :\n",
        "        sim = jaccard_sim(clustering1[i], clustering2[j])\n",
        "        mapping[i] = j\n",
        "\n",
        "  #Using the obtained mapping, calculating the Jaccard similarity values\n",
        "  scores = []\n",
        "  for i in range(n) :\n",
        "    scores.append(jaccard_sim(clustering1[i], clustering2[mapping[i]]))\n",
        "  \n",
        "  #printing the values\n",
        "  print('\\nThe mapping of clusters is as follows : \\n')\n",
        "  for i in range(n) :\n",
        "    print(f'{i} ---> {mapping[i]}', end='\\t')\n",
        "  print('\\nThe Jaccard Similarity values of the corresponding clusters are as follows : \\n')\n",
        "  for i in range(n) :\n",
        "    print(f'{scores[i] : .6f}', end='\\t')\n",
        "  return scores"
      ],
      "metadata": {
        "id": "AqZAx70d9aFw"
      },
      "execution_count": 339,
      "outputs": []
    },
    {
      "cell_type": "markdown",
      "source": [
        "###**Loading the data**"
      ],
      "metadata": {
        "id": "IHy3Imnjy03-"
      }
    },
    {
      "cell_type": "code",
      "source": [
        "#Google drive is mounted\n",
        "from google.colab import drive\n",
        "drive.mount('/content/drive')"
      ],
      "metadata": {
        "colab": {
          "base_uri": "https://localhost:8080/"
        },
        "id": "CNPMWSuN8bwX",
        "outputId": "bf9bb247-8c80-4afb-b3cf-c0ef70e68d9e"
      },
      "execution_count": 340,
      "outputs": [
        {
          "output_type": "stream",
          "name": "stdout",
          "text": [
            "Drive already mounted at /content/drive; to attempt to forcibly remount, call drive.mount(\"/content/drive\", force_remount=True).\n"
          ]
        }
      ]
    },
    {
      "cell_type": "markdown",
      "source": [
        "Create a folder called EOHC_DC in your google drive and upload the dataset file in that folder **before running the below cell**."
      ],
      "metadata": {
        "id": "-8eV9PnLy8m6"
      }
    },
    {
      "cell_type": "code",
      "source": [
        "#Reading the dataset file\n",
        "dataset = pd.read_csv('drive/MyDrive/EOHC_DC/eoutlookTS.csv')\n",
        "dataset.head()"
      ],
      "metadata": {
        "colab": {
          "base_uri": "https://localhost:8080/",
          "height": 441
        },
        "id": "uvMfVMau8dqL",
        "outputId": "482d41d3-69ab-40f9-8d70-c936f575ffd6"
      },
      "execution_count": 341,
      "outputs": [
        {
          "output_type": "execute_result",
          "data": {
            "text/plain": [
              "  Country Name  Country Code  \\\n",
              "0  Philippines           566   \n",
              "1    Singapore           576   \n",
              "2     Thailand           578   \n",
              "3      Vietnam           582   \n",
              "4       Bhutan           514   \n",
              "\n",
              "                                      Indicator Name Indicator Code Attribute  \\\n",
              "0  External Trade, Imports of Goods and Services,...  TM_R_PC_PP_PT     Value   \n",
              "1  External Trade, Imports of Goods and Services,...  TM_R_PC_PP_PT     Value   \n",
              "2  External Trade, Imports of Goods and Services,...  TM_R_PC_PP_PT     Value   \n",
              "3  External Trade, Imports of Goods and Services,...  TM_R_PC_PP_PT     Value   \n",
              "4  External Trade, Imports of Goods and Services,...  TM_R_PC_PP_PT     Value   \n",
              "\n",
              "   2012       2013       2014       2015       2016      2017       2018  \\\n",
              "0   NaN   0.200799  14.905583  13.226791   9.002666  2.787334   5.241875   \n",
              "1   NaN   5.390545   5.330872   7.044583   0.825551  1.330361   3.921043   \n",
              "2   NaN   1.578705  -5.279759   0.806382  -3.181700  3.474188   3.536731   \n",
              "3   NaN  19.266017  14.087290  20.779727  11.365084  8.207265  12.039589   \n",
              "4   NaN -15.212637  -4.946150  -0.084670   8.053188  5.409294  -1.913507   \n",
              "\n",
              "        2019       2020       2021  Base Year  Unnamed: 16  \n",
              "0   5.730075   5.502134   6.074727        NaN          NaN  \n",
              "1   4.328353   4.447906   4.849560        NaN          NaN  \n",
              "2   3.644354   3.979334   3.840477        NaN          NaN  \n",
              "3  13.399777  13.050892  13.015151        NaN          NaN  \n",
              "4  -0.225860  -4.796220   0.861616        NaN          NaN  "
            ],
            "text/html": [
              "\n",
              "  <div id=\"df-84d8148d-5e3d-4827-9146-825531fd010d\">\n",
              "    <div class=\"colab-df-container\">\n",
              "      <div>\n",
              "<style scoped>\n",
              "    .dataframe tbody tr th:only-of-type {\n",
              "        vertical-align: middle;\n",
              "    }\n",
              "\n",
              "    .dataframe tbody tr th {\n",
              "        vertical-align: top;\n",
              "    }\n",
              "\n",
              "    .dataframe thead th {\n",
              "        text-align: right;\n",
              "    }\n",
              "</style>\n",
              "<table border=\"1\" class=\"dataframe\">\n",
              "  <thead>\n",
              "    <tr style=\"text-align: right;\">\n",
              "      <th></th>\n",
              "      <th>Country Name</th>\n",
              "      <th>Country Code</th>\n",
              "      <th>Indicator Name</th>\n",
              "      <th>Indicator Code</th>\n",
              "      <th>Attribute</th>\n",
              "      <th>2012</th>\n",
              "      <th>2013</th>\n",
              "      <th>2014</th>\n",
              "      <th>2015</th>\n",
              "      <th>2016</th>\n",
              "      <th>2017</th>\n",
              "      <th>2018</th>\n",
              "      <th>2019</th>\n",
              "      <th>2020</th>\n",
              "      <th>2021</th>\n",
              "      <th>Base Year</th>\n",
              "      <th>Unnamed: 16</th>\n",
              "    </tr>\n",
              "  </thead>\n",
              "  <tbody>\n",
              "    <tr>\n",
              "      <th>0</th>\n",
              "      <td>Philippines</td>\n",
              "      <td>566</td>\n",
              "      <td>External Trade, Imports of Goods and Services,...</td>\n",
              "      <td>TM_R_PC_PP_PT</td>\n",
              "      <td>Value</td>\n",
              "      <td>NaN</td>\n",
              "      <td>0.200799</td>\n",
              "      <td>14.905583</td>\n",
              "      <td>13.226791</td>\n",
              "      <td>9.002666</td>\n",
              "      <td>2.787334</td>\n",
              "      <td>5.241875</td>\n",
              "      <td>5.730075</td>\n",
              "      <td>5.502134</td>\n",
              "      <td>6.074727</td>\n",
              "      <td>NaN</td>\n",
              "      <td>NaN</td>\n",
              "    </tr>\n",
              "    <tr>\n",
              "      <th>1</th>\n",
              "      <td>Singapore</td>\n",
              "      <td>576</td>\n",
              "      <td>External Trade, Imports of Goods and Services,...</td>\n",
              "      <td>TM_R_PC_PP_PT</td>\n",
              "      <td>Value</td>\n",
              "      <td>NaN</td>\n",
              "      <td>5.390545</td>\n",
              "      <td>5.330872</td>\n",
              "      <td>7.044583</td>\n",
              "      <td>0.825551</td>\n",
              "      <td>1.330361</td>\n",
              "      <td>3.921043</td>\n",
              "      <td>4.328353</td>\n",
              "      <td>4.447906</td>\n",
              "      <td>4.849560</td>\n",
              "      <td>NaN</td>\n",
              "      <td>NaN</td>\n",
              "    </tr>\n",
              "    <tr>\n",
              "      <th>2</th>\n",
              "      <td>Thailand</td>\n",
              "      <td>578</td>\n",
              "      <td>External Trade, Imports of Goods and Services,...</td>\n",
              "      <td>TM_R_PC_PP_PT</td>\n",
              "      <td>Value</td>\n",
              "      <td>NaN</td>\n",
              "      <td>1.578705</td>\n",
              "      <td>-5.279759</td>\n",
              "      <td>0.806382</td>\n",
              "      <td>-3.181700</td>\n",
              "      <td>3.474188</td>\n",
              "      <td>3.536731</td>\n",
              "      <td>3.644354</td>\n",
              "      <td>3.979334</td>\n",
              "      <td>3.840477</td>\n",
              "      <td>NaN</td>\n",
              "      <td>NaN</td>\n",
              "    </tr>\n",
              "    <tr>\n",
              "      <th>3</th>\n",
              "      <td>Vietnam</td>\n",
              "      <td>582</td>\n",
              "      <td>External Trade, Imports of Goods and Services,...</td>\n",
              "      <td>TM_R_PC_PP_PT</td>\n",
              "      <td>Value</td>\n",
              "      <td>NaN</td>\n",
              "      <td>19.266017</td>\n",
              "      <td>14.087290</td>\n",
              "      <td>20.779727</td>\n",
              "      <td>11.365084</td>\n",
              "      <td>8.207265</td>\n",
              "      <td>12.039589</td>\n",
              "      <td>13.399777</td>\n",
              "      <td>13.050892</td>\n",
              "      <td>13.015151</td>\n",
              "      <td>NaN</td>\n",
              "      <td>NaN</td>\n",
              "    </tr>\n",
              "    <tr>\n",
              "      <th>4</th>\n",
              "      <td>Bhutan</td>\n",
              "      <td>514</td>\n",
              "      <td>External Trade, Imports of Goods and Services,...</td>\n",
              "      <td>TM_R_PC_PP_PT</td>\n",
              "      <td>Value</td>\n",
              "      <td>NaN</td>\n",
              "      <td>-15.212637</td>\n",
              "      <td>-4.946150</td>\n",
              "      <td>-0.084670</td>\n",
              "      <td>8.053188</td>\n",
              "      <td>5.409294</td>\n",
              "      <td>-1.913507</td>\n",
              "      <td>-0.225860</td>\n",
              "      <td>-4.796220</td>\n",
              "      <td>0.861616</td>\n",
              "      <td>NaN</td>\n",
              "      <td>NaN</td>\n",
              "    </tr>\n",
              "  </tbody>\n",
              "</table>\n",
              "</div>\n",
              "      <button class=\"colab-df-convert\" onclick=\"convertToInteractive('df-84d8148d-5e3d-4827-9146-825531fd010d')\"\n",
              "              title=\"Convert this dataframe to an interactive table.\"\n",
              "              style=\"display:none;\">\n",
              "        \n",
              "  <svg xmlns=\"http://www.w3.org/2000/svg\" height=\"24px\"viewBox=\"0 0 24 24\"\n",
              "       width=\"24px\">\n",
              "    <path d=\"M0 0h24v24H0V0z\" fill=\"none\"/>\n",
              "    <path d=\"M18.56 5.44l.94 2.06.94-2.06 2.06-.94-2.06-.94-.94-2.06-.94 2.06-2.06.94zm-11 1L8.5 8.5l.94-2.06 2.06-.94-2.06-.94L8.5 2.5l-.94 2.06-2.06.94zm10 10l.94 2.06.94-2.06 2.06-.94-2.06-.94-.94-2.06-.94 2.06-2.06.94z\"/><path d=\"M17.41 7.96l-1.37-1.37c-.4-.4-.92-.59-1.43-.59-.52 0-1.04.2-1.43.59L10.3 9.45l-7.72 7.72c-.78.78-.78 2.05 0 2.83L4 21.41c.39.39.9.59 1.41.59.51 0 1.02-.2 1.41-.59l7.78-7.78 2.81-2.81c.8-.78.8-2.07 0-2.86zM5.41 20L4 18.59l7.72-7.72 1.47 1.35L5.41 20z\"/>\n",
              "  </svg>\n",
              "      </button>\n",
              "      \n",
              "  <style>\n",
              "    .colab-df-container {\n",
              "      display:flex;\n",
              "      flex-wrap:wrap;\n",
              "      gap: 12px;\n",
              "    }\n",
              "\n",
              "    .colab-df-convert {\n",
              "      background-color: #E8F0FE;\n",
              "      border: none;\n",
              "      border-radius: 50%;\n",
              "      cursor: pointer;\n",
              "      display: none;\n",
              "      fill: #1967D2;\n",
              "      height: 32px;\n",
              "      padding: 0 0 0 0;\n",
              "      width: 32px;\n",
              "    }\n",
              "\n",
              "    .colab-df-convert:hover {\n",
              "      background-color: #E2EBFA;\n",
              "      box-shadow: 0px 1px 2px rgba(60, 64, 67, 0.3), 0px 1px 3px 1px rgba(60, 64, 67, 0.15);\n",
              "      fill: #174EA6;\n",
              "    }\n",
              "\n",
              "    [theme=dark] .colab-df-convert {\n",
              "      background-color: #3B4455;\n",
              "      fill: #D2E3FC;\n",
              "    }\n",
              "\n",
              "    [theme=dark] .colab-df-convert:hover {\n",
              "      background-color: #434B5C;\n",
              "      box-shadow: 0px 1px 3px 1px rgba(0, 0, 0, 0.15);\n",
              "      filter: drop-shadow(0px 1px 2px rgba(0, 0, 0, 0.3));\n",
              "      fill: #FFFFFF;\n",
              "    }\n",
              "  </style>\n",
              "\n",
              "      <script>\n",
              "        const buttonEl =\n",
              "          document.querySelector('#df-84d8148d-5e3d-4827-9146-825531fd010d button.colab-df-convert');\n",
              "        buttonEl.style.display =\n",
              "          google.colab.kernel.accessAllowed ? 'block' : 'none';\n",
              "\n",
              "        async function convertToInteractive(key) {\n",
              "          const element = document.querySelector('#df-84d8148d-5e3d-4827-9146-825531fd010d');\n",
              "          const dataTable =\n",
              "            await google.colab.kernel.invokeFunction('convertToInteractive',\n",
              "                                                     [key], {});\n",
              "          if (!dataTable) return;\n",
              "\n",
              "          const docLinkHtml = 'Like what you see? Visit the ' +\n",
              "            '<a target=\"_blank\" href=https://colab.research.google.com/notebooks/data_table.ipynb>data table notebook</a>'\n",
              "            + ' to learn more about interactive tables.';\n",
              "          element.innerHTML = '';\n",
              "          dataTable['output_type'] = 'display_data';\n",
              "          await google.colab.output.renderOutput(dataTable, element);\n",
              "          const docLink = document.createElement('div');\n",
              "          docLink.innerHTML = docLinkHtml;\n",
              "          element.appendChild(docLink);\n",
              "        }\n",
              "      </script>\n",
              "    </div>\n",
              "  </div>\n",
              "  "
            ]
          },
          "metadata": {},
          "execution_count": 341
        }
      ]
    },
    {
      "cell_type": "markdown",
      "source": [
        "###**Preprocessing the dataset**"
      ],
      "metadata": {
        "id": "5vYYaJgXyruy"
      }
    },
    {
      "cell_type": "markdown",
      "source": [
        "Removing all the columns with **all NULL** values"
      ],
      "metadata": {
        "id": "a-soykClzKas"
      }
    },
    {
      "cell_type": "code",
      "source": [
        "dataset.dropna(how='all', axis='columns',inplace=True)\n",
        "dataset.shape"
      ],
      "metadata": {
        "colab": {
          "base_uri": "https://localhost:8080/"
        },
        "id": "Z4sjAiWbAQva",
        "outputId": "69dac416-2f3b-4a5c-9f22-6c61d6fa07ae"
      },
      "execution_count": 342,
      "outputs": [
        {
          "output_type": "execute_result",
          "data": {
            "text/plain": [
              "(368, 14)"
            ]
          },
          "metadata": {},
          "execution_count": 342
        }
      ]
    },
    {
      "cell_type": "markdown",
      "source": [
        "We see that the feature ***Attribute*** has **only one unique value** and hence has no effect on clustering. "
      ],
      "metadata": {
        "id": "em_GGXd8zSMd"
      }
    },
    {
      "cell_type": "code",
      "source": [
        "dataset['Attribute'].unique()"
      ],
      "metadata": {
        "colab": {
          "base_uri": "https://localhost:8080/"
        },
        "id": "wsQRe8LEDwl4",
        "outputId": "16a31ac1-1678-452a-d805-dfea59eacdc1"
      },
      "execution_count": 343,
      "outputs": [
        {
          "output_type": "execute_result",
          "data": {
            "text/plain": [
              "array(['Value'], dtype=object)"
            ]
          },
          "metadata": {},
          "execution_count": 343
        }
      ]
    },
    {
      "cell_type": "markdown",
      "source": [
        "We observe that **Indicator Name and Indicator Code features are equivalent**. There exists a one to one mapping between them as shown below. "
      ],
      "metadata": {
        "id": "vqnCJHoVzgm0"
      }
    },
    {
      "cell_type": "code",
      "source": [
        "dataset.groupby('Indicator Name')['Indicator Code'].unique()"
      ],
      "metadata": {
        "colab": {
          "base_uri": "https://localhost:8080/"
        },
        "id": "W0Beiq8QHCWb",
        "outputId": "751d590a-c609-422a-8d82-9c373749d027"
      },
      "execution_count": 344,
      "outputs": [
        {
          "output_type": "execute_result",
          "data": {
            "text/plain": [
              "Indicator Name\n",
              "Balance of Payments, Current Account, Total, Net, In billions of US Dollars                    [BCA_BP6_USD]\n",
              "Balance of Payments, Current Account, Total, Net, Percent of GDP                            [BCA_GDP_BP6_PT]\n",
              "External Trade, Exports of Goods and Services, Percent Change                                [TX_R_PC_PP_PT]\n",
              "External Trade, Imports of Goods and Services, Percent Change                                [TM_R_PC_PP_PT]\n",
              "Fiscal, General Government, Gross debt position, 2001 Manual, Percent of FY GDP          [GGXWDG_G01_GDP_PT]\n",
              "Fiscal, General Government, Net lending/borrowing, 2001 Manual, Percent of FY GDP        [GGXCNL_G01_GDP_PT]\n",
              "National Accounts, Gross Domestic Product in US Dollars, Constant Prices, in billions            [NGDPD_USD]\n",
              "National Accounts, Gross Domestic Product, Real, Constant Prices, Percent Change           [NGDP_R_PC_PP_PT]\n",
              "National Accounts, Total Domestic Demand, Real, Constant Prices, Percent Change            [NTDD_R_PC_PP_PT]\n",
              "Prices, Consumer Price Index, All items, CPI (p.a.), percent change                          [PCPI_PC_PP_PT]\n",
              "Name: Indicator Code, dtype: object"
            ]
          },
          "metadata": {},
          "execution_count": 344
        }
      ]
    },
    {
      "cell_type": "markdown",
      "source": [
        "Also we observe that **Country Name and Country Code features are equivalent**. There exists a one to one mapping between them as shown below. "
      ],
      "metadata": {
        "id": "a_xjLnF6zu7e"
      }
    },
    {
      "cell_type": "code",
      "source": [
        "dataset.groupby('Country Name')['Country Code'].unique()"
      ],
      "metadata": {
        "colab": {
          "base_uri": "https://localhost:8080/"
        },
        "id": "4SrJqJ1rEyv1",
        "outputId": "96367864-ceb9-48b1-913e-09db53f7605e"
      },
      "execution_count": 345,
      "outputs": [
        {
          "output_type": "execute_result",
          "data": {
            "text/plain": [
              "Country Name\n",
              "ASEAN                                [511]\n",
              "Asia                                 [229]\n",
              "Australia                            [193]\n",
              "Bangladesh                           [513]\n",
              "Bhutan                               [514]\n",
              "Brunei Darussalam                    [516]\n",
              "Cambodia                             [522]\n",
              "China, P.R.: Hong Kong               [532]\n",
              "China, P.R.: Macao                   [546]\n",
              "China, P.R.: Mainland                [924]\n",
              "Fiji                                 [819]\n",
              "India                                [534]\n",
              "Indonesia                            [536]\n",
              "Japan                                [158]\n",
              "Kiribati                             [826]\n",
              "Korea, Republic of                   [542]\n",
              "Lao People's Democratic Republic     [544]\n",
              "Malaysia                             [548]\n",
              "Maldives                             [556]\n",
              "Marshall Islands, Republic of        [867]\n",
              "Micronesia, Federated States of      [868]\n",
              "Mongolia                             [948]\n",
              "Myanmar                              [518]\n",
              "Nepal                                [558]\n",
              "New Zealand                          [196]\n",
              "Palau                                [565]\n",
              "Papua New Guinea                     [853]\n",
              "Philippines                          [566]\n",
              "Samoa                                [862]\n",
              "Singapore                            [576]\n",
              "Solomon Islands                      [813]\n",
              "South Asia                          [9502]\n",
              "Sri Lanka                            [524]\n",
              "Taiwan Province of China             [528]\n",
              "Thailand                             [578]\n",
              "Timor-Leste, Dem. Rep. of            [537]\n",
              "Tonga                                [866]\n",
              "Tuvalu                               [869]\n",
              "Vanuatu                              [846]\n",
              "Vietnam                              [582]\n",
              "Name: Country Code, dtype: object"
            ]
          },
          "metadata": {},
          "execution_count": 345
        }
      ]
    },
    {
      "cell_type": "markdown",
      "source": [
        "The **irrelevant features** from the above analysis are removed from the dataset."
      ],
      "metadata": {
        "id": "RggnDXTDz0Bl"
      }
    },
    {
      "cell_type": "code",
      "source": [
        "dataset.drop(['Country Name','Indicator Name','Attribute'],axis=1,inplace=True)\n",
        "dataset.shape"
      ],
      "metadata": {
        "colab": {
          "base_uri": "https://localhost:8080/"
        },
        "id": "fH7ZKMN1ILIH",
        "outputId": "c4f15ceb-6a80-428a-89b4-1ec37fb47a73"
      },
      "execution_count": 346,
      "outputs": [
        {
          "output_type": "execute_result",
          "data": {
            "text/plain": [
              "(368, 11)"
            ]
          },
          "metadata": {},
          "execution_count": 346
        }
      ]
    },
    {
      "cell_type": "markdown",
      "source": [
        "The **categorical attributes** *Indicator Code* and *Country Code* are converted to numerical attributes on using the below cell."
      ],
      "metadata": {
        "id": "MFWk7iGmz8gf"
      }
    },
    {
      "cell_type": "code",
      "source": [
        "cat1 = pd.Categorical(dataset['Indicator Code'])\n",
        "mapping1 = dict(enumerate(cat1.categories))\n",
        "cat2 = pd.Categorical(dataset['Country Code'])\n",
        "mapping2 = dict(enumerate(cat2.categories))\n",
        "\n",
        "print('The mapping of Indicator Code feature is as follows : \\n')\n",
        "print(mapping1)\n",
        "print('\\nThe mapping of Country Code feature is as follows : \\n')\n",
        "print(mapping2)"
      ],
      "metadata": {
        "colab": {
          "base_uri": "https://localhost:8080/"
        },
        "id": "FMu-8EGg99f2",
        "outputId": "d4c94fd2-3d0d-4d01-f196-308f11a9338c"
      },
      "execution_count": 347,
      "outputs": [
        {
          "output_type": "stream",
          "name": "stdout",
          "text": [
            "The mapping of Indicator Code feature is as follows : \n",
            "\n",
            "{0: 'BCA_BP6_USD', 1: 'BCA_GDP_BP6_PT', 2: 'GGXCNL_G01_GDP_PT', 3: 'GGXWDG_G01_GDP_PT', 4: 'NGDPD_USD', 5: 'NGDP_R_PC_PP_PT', 6: 'NTDD_R_PC_PP_PT', 7: 'PCPI_PC_PP_PT', 8: 'TM_R_PC_PP_PT', 9: 'TX_R_PC_PP_PT'}\n",
            "\n",
            "The mapping of Country Code feature is as follows : \n",
            "\n",
            "{0: 158, 1: 193, 2: 196, 3: 229, 4: 511, 5: 513, 6: 514, 7: 516, 8: 518, 9: 522, 10: 524, 11: 528, 12: 532, 13: 534, 14: 536, 15: 537, 16: 542, 17: 544, 18: 546, 19: 548, 20: 556, 21: 558, 22: 565, 23: 566, 24: 576, 25: 578, 26: 582, 27: 813, 28: 819, 29: 826, 30: 846, 31: 853, 32: 862, 33: 866, 34: 867, 35: 868, 36: 869, 37: 924, 38: 948, 39: 9502}\n"
          ]
        }
      ]
    },
    {
      "cell_type": "code",
      "source": [
        "dataset['Indicator Code'] = cat1.codes\n",
        "dataset['Country Code'] = cat2.codes\n",
        "dataset"
      ],
      "metadata": {
        "colab": {
          "base_uri": "https://localhost:8080/",
          "height": 423
        },
        "id": "ediyGqdZ_o0e",
        "outputId": "09e028ea-88fa-484f-e8ff-b68ee95094f6"
      },
      "execution_count": 348,
      "outputs": [
        {
          "output_type": "execute_result",
          "data": {
            "text/plain": [
              "     Country Code  Indicator Code          2013          2014          2015  \\\n",
              "0              23               8  2.007986e-01  1.490558e+01  1.322679e+01   \n",
              "1              24               8  5.390545e+00  5.330872e+00  7.044583e+00   \n",
              "2              25               8  1.578705e+00 -5.279759e+00  8.063819e-01   \n",
              "3              26               8  1.926602e+01  1.408729e+01  2.077973e+01   \n",
              "4               6               8 -1.521264e+01 -4.946150e+00 -8.466965e-02   \n",
              "..            ...             ...           ...           ...           ...   \n",
              "363            18               2  3.024497e+01  2.137307e+01  9.589114e+00   \n",
              "364            18               1  4.024581e+01  3.435932e+01  2.797807e+01   \n",
              "365            18               3  0.000000e+00  0.000000e+00  0.000000e+00   \n",
              "366            18               0  2.074638e+10  1.907726e+10  1.291964e+10   \n",
              "367            15               6 -1.619718e+01  6.070193e+00 -1.316324e+00   \n",
              "\n",
              "             2016          2017          2018          2019          2020  \\\n",
              "0    9.002666e+00  2.787334e+00  5.241875e+00  5.730075e+00  5.502134e+00   \n",
              "1    8.255513e-01  1.330361e+00  3.921043e+00  4.328353e+00  4.447906e+00   \n",
              "2   -3.181700e+00  3.474188e+00  3.536731e+00  3.644354e+00  3.979334e+00   \n",
              "3    1.136508e+01  8.207265e+00  1.203959e+01  1.339978e+01  1.305089e+01   \n",
              "4    8.053188e+00  5.409294e+00 -1.913507e+00 -2.258604e-01 -4.796220e+00   \n",
              "..            ...           ...           ...           ...           ...   \n",
              "363  8.789087e+00  9.189087e+00  9.289087e+00  9.389087e+00  9.489087e+00   \n",
              "364  2.839163e+01  2.918812e+01  2.957351e+01  2.979294e+01  3.015780e+01   \n",
              "365  0.000000e+00  0.000000e+00  0.000000e+00  0.000000e+00  0.000000e+00   \n",
              "366  1.251105e+10  1.312539e+10  1.355052e+10  1.409381e+10  1.489879e+10   \n",
              "367  3.809029e+01  6.852537e+00  6.954075e+00  7.525697e+00  6.133939e+00   \n",
              "\n",
              "             2021  \n",
              "0    6.074727e+00  \n",
              "1    4.849560e+00  \n",
              "2    3.840477e+00  \n",
              "3    1.301515e+01  \n",
              "4    8.616156e-01  \n",
              "..            ...  \n",
              "363  9.589087e+00  \n",
              "364  3.040001e+01  \n",
              "365  0.000000e+00  \n",
              "366  1.569962e+10  \n",
              "367 -1.057912e+00  \n",
              "\n",
              "[368 rows x 11 columns]"
            ],
            "text/html": [
              "\n",
              "  <div id=\"df-88a62a4b-8e7d-46d4-b027-71cede448a2b\">\n",
              "    <div class=\"colab-df-container\">\n",
              "      <div>\n",
              "<style scoped>\n",
              "    .dataframe tbody tr th:only-of-type {\n",
              "        vertical-align: middle;\n",
              "    }\n",
              "\n",
              "    .dataframe tbody tr th {\n",
              "        vertical-align: top;\n",
              "    }\n",
              "\n",
              "    .dataframe thead th {\n",
              "        text-align: right;\n",
              "    }\n",
              "</style>\n",
              "<table border=\"1\" class=\"dataframe\">\n",
              "  <thead>\n",
              "    <tr style=\"text-align: right;\">\n",
              "      <th></th>\n",
              "      <th>Country Code</th>\n",
              "      <th>Indicator Code</th>\n",
              "      <th>2013</th>\n",
              "      <th>2014</th>\n",
              "      <th>2015</th>\n",
              "      <th>2016</th>\n",
              "      <th>2017</th>\n",
              "      <th>2018</th>\n",
              "      <th>2019</th>\n",
              "      <th>2020</th>\n",
              "      <th>2021</th>\n",
              "    </tr>\n",
              "  </thead>\n",
              "  <tbody>\n",
              "    <tr>\n",
              "      <th>0</th>\n",
              "      <td>23</td>\n",
              "      <td>8</td>\n",
              "      <td>2.007986e-01</td>\n",
              "      <td>1.490558e+01</td>\n",
              "      <td>1.322679e+01</td>\n",
              "      <td>9.002666e+00</td>\n",
              "      <td>2.787334e+00</td>\n",
              "      <td>5.241875e+00</td>\n",
              "      <td>5.730075e+00</td>\n",
              "      <td>5.502134e+00</td>\n",
              "      <td>6.074727e+00</td>\n",
              "    </tr>\n",
              "    <tr>\n",
              "      <th>1</th>\n",
              "      <td>24</td>\n",
              "      <td>8</td>\n",
              "      <td>5.390545e+00</td>\n",
              "      <td>5.330872e+00</td>\n",
              "      <td>7.044583e+00</td>\n",
              "      <td>8.255513e-01</td>\n",
              "      <td>1.330361e+00</td>\n",
              "      <td>3.921043e+00</td>\n",
              "      <td>4.328353e+00</td>\n",
              "      <td>4.447906e+00</td>\n",
              "      <td>4.849560e+00</td>\n",
              "    </tr>\n",
              "    <tr>\n",
              "      <th>2</th>\n",
              "      <td>25</td>\n",
              "      <td>8</td>\n",
              "      <td>1.578705e+00</td>\n",
              "      <td>-5.279759e+00</td>\n",
              "      <td>8.063819e-01</td>\n",
              "      <td>-3.181700e+00</td>\n",
              "      <td>3.474188e+00</td>\n",
              "      <td>3.536731e+00</td>\n",
              "      <td>3.644354e+00</td>\n",
              "      <td>3.979334e+00</td>\n",
              "      <td>3.840477e+00</td>\n",
              "    </tr>\n",
              "    <tr>\n",
              "      <th>3</th>\n",
              "      <td>26</td>\n",
              "      <td>8</td>\n",
              "      <td>1.926602e+01</td>\n",
              "      <td>1.408729e+01</td>\n",
              "      <td>2.077973e+01</td>\n",
              "      <td>1.136508e+01</td>\n",
              "      <td>8.207265e+00</td>\n",
              "      <td>1.203959e+01</td>\n",
              "      <td>1.339978e+01</td>\n",
              "      <td>1.305089e+01</td>\n",
              "      <td>1.301515e+01</td>\n",
              "    </tr>\n",
              "    <tr>\n",
              "      <th>4</th>\n",
              "      <td>6</td>\n",
              "      <td>8</td>\n",
              "      <td>-1.521264e+01</td>\n",
              "      <td>-4.946150e+00</td>\n",
              "      <td>-8.466965e-02</td>\n",
              "      <td>8.053188e+00</td>\n",
              "      <td>5.409294e+00</td>\n",
              "      <td>-1.913507e+00</td>\n",
              "      <td>-2.258604e-01</td>\n",
              "      <td>-4.796220e+00</td>\n",
              "      <td>8.616156e-01</td>\n",
              "    </tr>\n",
              "    <tr>\n",
              "      <th>...</th>\n",
              "      <td>...</td>\n",
              "      <td>...</td>\n",
              "      <td>...</td>\n",
              "      <td>...</td>\n",
              "      <td>...</td>\n",
              "      <td>...</td>\n",
              "      <td>...</td>\n",
              "      <td>...</td>\n",
              "      <td>...</td>\n",
              "      <td>...</td>\n",
              "      <td>...</td>\n",
              "    </tr>\n",
              "    <tr>\n",
              "      <th>363</th>\n",
              "      <td>18</td>\n",
              "      <td>2</td>\n",
              "      <td>3.024497e+01</td>\n",
              "      <td>2.137307e+01</td>\n",
              "      <td>9.589114e+00</td>\n",
              "      <td>8.789087e+00</td>\n",
              "      <td>9.189087e+00</td>\n",
              "      <td>9.289087e+00</td>\n",
              "      <td>9.389087e+00</td>\n",
              "      <td>9.489087e+00</td>\n",
              "      <td>9.589087e+00</td>\n",
              "    </tr>\n",
              "    <tr>\n",
              "      <th>364</th>\n",
              "      <td>18</td>\n",
              "      <td>1</td>\n",
              "      <td>4.024581e+01</td>\n",
              "      <td>3.435932e+01</td>\n",
              "      <td>2.797807e+01</td>\n",
              "      <td>2.839163e+01</td>\n",
              "      <td>2.918812e+01</td>\n",
              "      <td>2.957351e+01</td>\n",
              "      <td>2.979294e+01</td>\n",
              "      <td>3.015780e+01</td>\n",
              "      <td>3.040001e+01</td>\n",
              "    </tr>\n",
              "    <tr>\n",
              "      <th>365</th>\n",
              "      <td>18</td>\n",
              "      <td>3</td>\n",
              "      <td>0.000000e+00</td>\n",
              "      <td>0.000000e+00</td>\n",
              "      <td>0.000000e+00</td>\n",
              "      <td>0.000000e+00</td>\n",
              "      <td>0.000000e+00</td>\n",
              "      <td>0.000000e+00</td>\n",
              "      <td>0.000000e+00</td>\n",
              "      <td>0.000000e+00</td>\n",
              "      <td>0.000000e+00</td>\n",
              "    </tr>\n",
              "    <tr>\n",
              "      <th>366</th>\n",
              "      <td>18</td>\n",
              "      <td>0</td>\n",
              "      <td>2.074638e+10</td>\n",
              "      <td>1.907726e+10</td>\n",
              "      <td>1.291964e+10</td>\n",
              "      <td>1.251105e+10</td>\n",
              "      <td>1.312539e+10</td>\n",
              "      <td>1.355052e+10</td>\n",
              "      <td>1.409381e+10</td>\n",
              "      <td>1.489879e+10</td>\n",
              "      <td>1.569962e+10</td>\n",
              "    </tr>\n",
              "    <tr>\n",
              "      <th>367</th>\n",
              "      <td>15</td>\n",
              "      <td>6</td>\n",
              "      <td>-1.619718e+01</td>\n",
              "      <td>6.070193e+00</td>\n",
              "      <td>-1.316324e+00</td>\n",
              "      <td>3.809029e+01</td>\n",
              "      <td>6.852537e+00</td>\n",
              "      <td>6.954075e+00</td>\n",
              "      <td>7.525697e+00</td>\n",
              "      <td>6.133939e+00</td>\n",
              "      <td>-1.057912e+00</td>\n",
              "    </tr>\n",
              "  </tbody>\n",
              "</table>\n",
              "<p>368 rows × 11 columns</p>\n",
              "</div>\n",
              "      <button class=\"colab-df-convert\" onclick=\"convertToInteractive('df-88a62a4b-8e7d-46d4-b027-71cede448a2b')\"\n",
              "              title=\"Convert this dataframe to an interactive table.\"\n",
              "              style=\"display:none;\">\n",
              "        \n",
              "  <svg xmlns=\"http://www.w3.org/2000/svg\" height=\"24px\"viewBox=\"0 0 24 24\"\n",
              "       width=\"24px\">\n",
              "    <path d=\"M0 0h24v24H0V0z\" fill=\"none\"/>\n",
              "    <path d=\"M18.56 5.44l.94 2.06.94-2.06 2.06-.94-2.06-.94-.94-2.06-.94 2.06-2.06.94zm-11 1L8.5 8.5l.94-2.06 2.06-.94-2.06-.94L8.5 2.5l-.94 2.06-2.06.94zm10 10l.94 2.06.94-2.06 2.06-.94-2.06-.94-.94-2.06-.94 2.06-2.06.94z\"/><path d=\"M17.41 7.96l-1.37-1.37c-.4-.4-.92-.59-1.43-.59-.52 0-1.04.2-1.43.59L10.3 9.45l-7.72 7.72c-.78.78-.78 2.05 0 2.83L4 21.41c.39.39.9.59 1.41.59.51 0 1.02-.2 1.41-.59l7.78-7.78 2.81-2.81c.8-.78.8-2.07 0-2.86zM5.41 20L4 18.59l7.72-7.72 1.47 1.35L5.41 20z\"/>\n",
              "  </svg>\n",
              "      </button>\n",
              "      \n",
              "  <style>\n",
              "    .colab-df-container {\n",
              "      display:flex;\n",
              "      flex-wrap:wrap;\n",
              "      gap: 12px;\n",
              "    }\n",
              "\n",
              "    .colab-df-convert {\n",
              "      background-color: #E8F0FE;\n",
              "      border: none;\n",
              "      border-radius: 50%;\n",
              "      cursor: pointer;\n",
              "      display: none;\n",
              "      fill: #1967D2;\n",
              "      height: 32px;\n",
              "      padding: 0 0 0 0;\n",
              "      width: 32px;\n",
              "    }\n",
              "\n",
              "    .colab-df-convert:hover {\n",
              "      background-color: #E2EBFA;\n",
              "      box-shadow: 0px 1px 2px rgba(60, 64, 67, 0.3), 0px 1px 3px 1px rgba(60, 64, 67, 0.15);\n",
              "      fill: #174EA6;\n",
              "    }\n",
              "\n",
              "    [theme=dark] .colab-df-convert {\n",
              "      background-color: #3B4455;\n",
              "      fill: #D2E3FC;\n",
              "    }\n",
              "\n",
              "    [theme=dark] .colab-df-convert:hover {\n",
              "      background-color: #434B5C;\n",
              "      box-shadow: 0px 1px 3px 1px rgba(0, 0, 0, 0.15);\n",
              "      filter: drop-shadow(0px 1px 2px rgba(0, 0, 0, 0.3));\n",
              "      fill: #FFFFFF;\n",
              "    }\n",
              "  </style>\n",
              "\n",
              "      <script>\n",
              "        const buttonEl =\n",
              "          document.querySelector('#df-88a62a4b-8e7d-46d4-b027-71cede448a2b button.colab-df-convert');\n",
              "        buttonEl.style.display =\n",
              "          google.colab.kernel.accessAllowed ? 'block' : 'none';\n",
              "\n",
              "        async function convertToInteractive(key) {\n",
              "          const element = document.querySelector('#df-88a62a4b-8e7d-46d4-b027-71cede448a2b');\n",
              "          const dataTable =\n",
              "            await google.colab.kernel.invokeFunction('convertToInteractive',\n",
              "                                                     [key], {});\n",
              "          if (!dataTable) return;\n",
              "\n",
              "          const docLinkHtml = 'Like what you see? Visit the ' +\n",
              "            '<a target=\"_blank\" href=https://colab.research.google.com/notebooks/data_table.ipynb>data table notebook</a>'\n",
              "            + ' to learn more about interactive tables.';\n",
              "          element.innerHTML = '';\n",
              "          dataTable['output_type'] = 'display_data';\n",
              "          await google.colab.output.renderOutput(dataTable, element);\n",
              "          const docLink = document.createElement('div');\n",
              "          docLink.innerHTML = docLinkHtml;\n",
              "          element.appendChild(docLink);\n",
              "        }\n",
              "      </script>\n",
              "    </div>\n",
              "  </div>\n",
              "  "
            ]
          },
          "metadata": {},
          "execution_count": 348
        }
      ]
    },
    {
      "cell_type": "markdown",
      "source": [
        "A **brief description** of the modified dataset can be seen below."
      ],
      "metadata": {
        "id": "ZHYbqzjg1Cuq"
      }
    },
    {
      "cell_type": "code",
      "source": [
        "dataset.describe()"
      ],
      "metadata": {
        "colab": {
          "base_uri": "https://localhost:8080/",
          "height": 300
        },
        "id": "c4YPPlkYe4YJ",
        "outputId": "10e34573-d4d3-433c-bed6-1cb3273e9039"
      },
      "execution_count": 349,
      "outputs": [
        {
          "output_type": "execute_result",
          "data": {
            "text/plain": [
              "       Country Code  Indicator Code          2013          2014          2015  \\\n",
              "count    368.000000      368.000000  3.680000e+02  3.680000e+02  3.680000e+02   \n",
              "mean      18.714674        4.274457  1.388786e+11  1.456254e+11  1.458785e+11   \n",
              "std       11.535166        2.833855  1.341315e+12  1.401727e+12  1.403537e+12   \n",
              "min        0.000000        0.000000 -5.076492e+10 -4.260813e+10 -5.797825e+10   \n",
              "25%        9.000000        2.000000 -1.739360e-01  5.209003e-01 -1.650977e-01   \n",
              "50%       18.500000        4.000000  4.395958e+00  5.230395e+00  3.415585e+00   \n",
              "75%       28.000000        7.000000  2.187242e+01  2.757314e+01  2.747224e+01   \n",
              "max       39.000000        9.000000  2.304833e+13  2.397848e+13  2.382446e+13   \n",
              "\n",
              "               2016          2017          2018          2019          2020  \\\n",
              "count  3.680000e+02  3.680000e+02  3.680000e+02  3.680000e+02  3.680000e+02   \n",
              "mean   1.530861e+11  1.644779e+11  1.764593e+11  1.901650e+11  2.052188e+11   \n",
              "std    1.470532e+12  1.590552e+12  1.713301e+12  1.852104e+12  2.005262e+12   \n",
              "min   -4.385167e+10 -5.958562e+10 -7.386217e+10 -8.135753e+10 -8.996249e+10   \n",
              "25%   -7.049429e-01  9.364445e-02  2.791882e-01  5.831844e-01  4.800183e-01   \n",
              "50%    3.003691e+00  3.484144e+00  3.469295e+00  3.609008e+00  3.562964e+00   \n",
              "75%    1.506932e+01  1.230730e+01  1.289121e+01  1.403429e+01  1.399329e+01   \n",
              "max    2.502550e+13  2.705126e+13  2.906150e+13  3.133734e+13  3.382648e+13   \n",
              "\n",
              "               2021  \n",
              "count  3.680000e+02  \n",
              "mean   2.209997e+11  \n",
              "std    2.164081e+12  \n",
              "min   -9.606275e+10  \n",
              "25%    5.993333e-01  \n",
              "50%    3.508862e+00  \n",
              "75%    1.448136e+01  \n",
              "max    3.640498e+13  "
            ],
            "text/html": [
              "\n",
              "  <div id=\"df-001b3b3f-122d-405c-a8e7-2442dc0d7ec6\">\n",
              "    <div class=\"colab-df-container\">\n",
              "      <div>\n",
              "<style scoped>\n",
              "    .dataframe tbody tr th:only-of-type {\n",
              "        vertical-align: middle;\n",
              "    }\n",
              "\n",
              "    .dataframe tbody tr th {\n",
              "        vertical-align: top;\n",
              "    }\n",
              "\n",
              "    .dataframe thead th {\n",
              "        text-align: right;\n",
              "    }\n",
              "</style>\n",
              "<table border=\"1\" class=\"dataframe\">\n",
              "  <thead>\n",
              "    <tr style=\"text-align: right;\">\n",
              "      <th></th>\n",
              "      <th>Country Code</th>\n",
              "      <th>Indicator Code</th>\n",
              "      <th>2013</th>\n",
              "      <th>2014</th>\n",
              "      <th>2015</th>\n",
              "      <th>2016</th>\n",
              "      <th>2017</th>\n",
              "      <th>2018</th>\n",
              "      <th>2019</th>\n",
              "      <th>2020</th>\n",
              "      <th>2021</th>\n",
              "    </tr>\n",
              "  </thead>\n",
              "  <tbody>\n",
              "    <tr>\n",
              "      <th>count</th>\n",
              "      <td>368.000000</td>\n",
              "      <td>368.000000</td>\n",
              "      <td>3.680000e+02</td>\n",
              "      <td>3.680000e+02</td>\n",
              "      <td>3.680000e+02</td>\n",
              "      <td>3.680000e+02</td>\n",
              "      <td>3.680000e+02</td>\n",
              "      <td>3.680000e+02</td>\n",
              "      <td>3.680000e+02</td>\n",
              "      <td>3.680000e+02</td>\n",
              "      <td>3.680000e+02</td>\n",
              "    </tr>\n",
              "    <tr>\n",
              "      <th>mean</th>\n",
              "      <td>18.714674</td>\n",
              "      <td>4.274457</td>\n",
              "      <td>1.388786e+11</td>\n",
              "      <td>1.456254e+11</td>\n",
              "      <td>1.458785e+11</td>\n",
              "      <td>1.530861e+11</td>\n",
              "      <td>1.644779e+11</td>\n",
              "      <td>1.764593e+11</td>\n",
              "      <td>1.901650e+11</td>\n",
              "      <td>2.052188e+11</td>\n",
              "      <td>2.209997e+11</td>\n",
              "    </tr>\n",
              "    <tr>\n",
              "      <th>std</th>\n",
              "      <td>11.535166</td>\n",
              "      <td>2.833855</td>\n",
              "      <td>1.341315e+12</td>\n",
              "      <td>1.401727e+12</td>\n",
              "      <td>1.403537e+12</td>\n",
              "      <td>1.470532e+12</td>\n",
              "      <td>1.590552e+12</td>\n",
              "      <td>1.713301e+12</td>\n",
              "      <td>1.852104e+12</td>\n",
              "      <td>2.005262e+12</td>\n",
              "      <td>2.164081e+12</td>\n",
              "    </tr>\n",
              "    <tr>\n",
              "      <th>min</th>\n",
              "      <td>0.000000</td>\n",
              "      <td>0.000000</td>\n",
              "      <td>-5.076492e+10</td>\n",
              "      <td>-4.260813e+10</td>\n",
              "      <td>-5.797825e+10</td>\n",
              "      <td>-4.385167e+10</td>\n",
              "      <td>-5.958562e+10</td>\n",
              "      <td>-7.386217e+10</td>\n",
              "      <td>-8.135753e+10</td>\n",
              "      <td>-8.996249e+10</td>\n",
              "      <td>-9.606275e+10</td>\n",
              "    </tr>\n",
              "    <tr>\n",
              "      <th>25%</th>\n",
              "      <td>9.000000</td>\n",
              "      <td>2.000000</td>\n",
              "      <td>-1.739360e-01</td>\n",
              "      <td>5.209003e-01</td>\n",
              "      <td>-1.650977e-01</td>\n",
              "      <td>-7.049429e-01</td>\n",
              "      <td>9.364445e-02</td>\n",
              "      <td>2.791882e-01</td>\n",
              "      <td>5.831844e-01</td>\n",
              "      <td>4.800183e-01</td>\n",
              "      <td>5.993333e-01</td>\n",
              "    </tr>\n",
              "    <tr>\n",
              "      <th>50%</th>\n",
              "      <td>18.500000</td>\n",
              "      <td>4.000000</td>\n",
              "      <td>4.395958e+00</td>\n",
              "      <td>5.230395e+00</td>\n",
              "      <td>3.415585e+00</td>\n",
              "      <td>3.003691e+00</td>\n",
              "      <td>3.484144e+00</td>\n",
              "      <td>3.469295e+00</td>\n",
              "      <td>3.609008e+00</td>\n",
              "      <td>3.562964e+00</td>\n",
              "      <td>3.508862e+00</td>\n",
              "    </tr>\n",
              "    <tr>\n",
              "      <th>75%</th>\n",
              "      <td>28.000000</td>\n",
              "      <td>7.000000</td>\n",
              "      <td>2.187242e+01</td>\n",
              "      <td>2.757314e+01</td>\n",
              "      <td>2.747224e+01</td>\n",
              "      <td>1.506932e+01</td>\n",
              "      <td>1.230730e+01</td>\n",
              "      <td>1.289121e+01</td>\n",
              "      <td>1.403429e+01</td>\n",
              "      <td>1.399329e+01</td>\n",
              "      <td>1.448136e+01</td>\n",
              "    </tr>\n",
              "    <tr>\n",
              "      <th>max</th>\n",
              "      <td>39.000000</td>\n",
              "      <td>9.000000</td>\n",
              "      <td>2.304833e+13</td>\n",
              "      <td>2.397848e+13</td>\n",
              "      <td>2.382446e+13</td>\n",
              "      <td>2.502550e+13</td>\n",
              "      <td>2.705126e+13</td>\n",
              "      <td>2.906150e+13</td>\n",
              "      <td>3.133734e+13</td>\n",
              "      <td>3.382648e+13</td>\n",
              "      <td>3.640498e+13</td>\n",
              "    </tr>\n",
              "  </tbody>\n",
              "</table>\n",
              "</div>\n",
              "      <button class=\"colab-df-convert\" onclick=\"convertToInteractive('df-001b3b3f-122d-405c-a8e7-2442dc0d7ec6')\"\n",
              "              title=\"Convert this dataframe to an interactive table.\"\n",
              "              style=\"display:none;\">\n",
              "        \n",
              "  <svg xmlns=\"http://www.w3.org/2000/svg\" height=\"24px\"viewBox=\"0 0 24 24\"\n",
              "       width=\"24px\">\n",
              "    <path d=\"M0 0h24v24H0V0z\" fill=\"none\"/>\n",
              "    <path d=\"M18.56 5.44l.94 2.06.94-2.06 2.06-.94-2.06-.94-.94-2.06-.94 2.06-2.06.94zm-11 1L8.5 8.5l.94-2.06 2.06-.94-2.06-.94L8.5 2.5l-.94 2.06-2.06.94zm10 10l.94 2.06.94-2.06 2.06-.94-2.06-.94-.94-2.06-.94 2.06-2.06.94z\"/><path d=\"M17.41 7.96l-1.37-1.37c-.4-.4-.92-.59-1.43-.59-.52 0-1.04.2-1.43.59L10.3 9.45l-7.72 7.72c-.78.78-.78 2.05 0 2.83L4 21.41c.39.39.9.59 1.41.59.51 0 1.02-.2 1.41-.59l7.78-7.78 2.81-2.81c.8-.78.8-2.07 0-2.86zM5.41 20L4 18.59l7.72-7.72 1.47 1.35L5.41 20z\"/>\n",
              "  </svg>\n",
              "      </button>\n",
              "      \n",
              "  <style>\n",
              "    .colab-df-container {\n",
              "      display:flex;\n",
              "      flex-wrap:wrap;\n",
              "      gap: 12px;\n",
              "    }\n",
              "\n",
              "    .colab-df-convert {\n",
              "      background-color: #E8F0FE;\n",
              "      border: none;\n",
              "      border-radius: 50%;\n",
              "      cursor: pointer;\n",
              "      display: none;\n",
              "      fill: #1967D2;\n",
              "      height: 32px;\n",
              "      padding: 0 0 0 0;\n",
              "      width: 32px;\n",
              "    }\n",
              "\n",
              "    .colab-df-convert:hover {\n",
              "      background-color: #E2EBFA;\n",
              "      box-shadow: 0px 1px 2px rgba(60, 64, 67, 0.3), 0px 1px 3px 1px rgba(60, 64, 67, 0.15);\n",
              "      fill: #174EA6;\n",
              "    }\n",
              "\n",
              "    [theme=dark] .colab-df-convert {\n",
              "      background-color: #3B4455;\n",
              "      fill: #D2E3FC;\n",
              "    }\n",
              "\n",
              "    [theme=dark] .colab-df-convert:hover {\n",
              "      background-color: #434B5C;\n",
              "      box-shadow: 0px 1px 3px 1px rgba(0, 0, 0, 0.15);\n",
              "      filter: drop-shadow(0px 1px 2px rgba(0, 0, 0, 0.3));\n",
              "      fill: #FFFFFF;\n",
              "    }\n",
              "  </style>\n",
              "\n",
              "      <script>\n",
              "        const buttonEl =\n",
              "          document.querySelector('#df-001b3b3f-122d-405c-a8e7-2442dc0d7ec6 button.colab-df-convert');\n",
              "        buttonEl.style.display =\n",
              "          google.colab.kernel.accessAllowed ? 'block' : 'none';\n",
              "\n",
              "        async function convertToInteractive(key) {\n",
              "          const element = document.querySelector('#df-001b3b3f-122d-405c-a8e7-2442dc0d7ec6');\n",
              "          const dataTable =\n",
              "            await google.colab.kernel.invokeFunction('convertToInteractive',\n",
              "                                                     [key], {});\n",
              "          if (!dataTable) return;\n",
              "\n",
              "          const docLinkHtml = 'Like what you see? Visit the ' +\n",
              "            '<a target=\"_blank\" href=https://colab.research.google.com/notebooks/data_table.ipynb>data table notebook</a>'\n",
              "            + ' to learn more about interactive tables.';\n",
              "          element.innerHTML = '';\n",
              "          dataTable['output_type'] = 'display_data';\n",
              "          await google.colab.output.renderOutput(dataTable, element);\n",
              "          const docLink = document.createElement('div');\n",
              "          docLink.innerHTML = docLinkHtml;\n",
              "          element.appendChild(docLink);\n",
              "        }\n",
              "      </script>\n",
              "    </div>\n",
              "  </div>\n",
              "  "
            ]
          },
          "metadata": {},
          "execution_count": 349
        }
      ]
    },
    {
      "cell_type": "markdown",
      "source": [
        "Looking at other attributes in the dataset"
      ],
      "metadata": {
        "id": "Z5LGMGgaINpr"
      }
    },
    {
      "cell_type": "code",
      "source": [
        "dataset.boxplot(column=['2013','2014','2015','2016','2017','2018','2019','2020','2021'])"
      ],
      "metadata": {
        "colab": {
          "base_uri": "https://localhost:8080/",
          "height": 462
        },
        "id": "kfbeu00lIMet",
        "outputId": "a1e08399-83b5-4e05-b035-523a45ec97db"
      },
      "execution_count": 350,
      "outputs": [
        {
          "output_type": "execute_result",
          "data": {
            "text/plain": [
              "<Axes: >"
            ]
          },
          "metadata": {},
          "execution_count": 350
        },
        {
          "output_type": "display_data",
          "data": {
            "text/plain": [
              "<Figure size 640x480 with 1 Axes>"
            ],
            "image/png": "[encoded data removed]"
          },
          "metadata": {}
        }
      ]
    },
    {
      "cell_type": "markdown",
      "source": [
        "**Standardizing the dataset** and converting it into a numpy array"
      ],
      "metadata": {
        "id": "8ZitrIvyFHF3"
      }
    },
    {
      "cell_type": "code",
      "source": [
        "dataset = standardize(dataset)\n",
        "dataset_np = np.array(dataset)\n",
        "dataset.head()"
      ],
      "metadata": {
        "colab": {
          "base_uri": "https://localhost:8080/",
          "height": 206
        },
        "id": "iWsjF-LjrJaZ",
        "outputId": "b0d531b1-7407-4c56-9838-60f089ba61f0"
      },
      "execution_count": 351,
      "outputs": [
        {
          "output_type": "execute_result",
          "data": {
            "text/plain": [
              "   Country Code  Indicator Code      2013     2014      2015      2016  \\\n",
              "0      0.371501        1.314656 -0.103539 -0.10389 -0.103936 -0.104102   \n",
              "1      0.458192        1.314656 -0.103539 -0.10389 -0.103936 -0.104102   \n",
              "2      0.544884        1.314656 -0.103539 -0.10389 -0.103936 -0.104102   \n",
              "3      0.631575        1.314656 -0.103539 -0.10389 -0.103936 -0.104102   \n",
              "4     -1.102253        1.314656 -0.103539 -0.10389 -0.103936 -0.104102   \n",
              "\n",
              "       2017      2018      2019     2020      2021  \n",
              "0 -0.103409 -0.102994 -0.102675 -0.10234 -0.102122  \n",
              "1 -0.103409 -0.102994 -0.102675 -0.10234 -0.102122  \n",
              "2 -0.103409 -0.102994 -0.102675 -0.10234 -0.102122  \n",
              "3 -0.103409 -0.102994 -0.102675 -0.10234 -0.102122  \n",
              "4 -0.103409 -0.102994 -0.102675 -0.10234 -0.102122  "
            ],
            "text/html": [
              "\n",
              "  <div id=\"df-072a7783-0405-4d93-ab0f-8d919f491851\">\n",
              "    <div class=\"colab-df-container\">\n",
              "      <div>\n",
              "<style scoped>\n",
              "    .dataframe tbody tr th:only-of-type {\n",
              "        vertical-align: middle;\n",
              "    }\n",
              "\n",
              "    .dataframe tbody tr th {\n",
              "        vertical-align: top;\n",
              "    }\n",
              "\n",
              "    .dataframe thead th {\n",
              "        text-align: right;\n",
              "    }\n",
              "</style>\n",
              "<table border=\"1\" class=\"dataframe\">\n",
              "  <thead>\n",
              "    <tr style=\"text-align: right;\">\n",
              "      <th></th>\n",
              "      <th>Country Code</th>\n",
              "      <th>Indicator Code</th>\n",
              "      <th>2013</th>\n",
              "      <th>2014</th>\n",
              "      <th>2015</th>\n",
              "      <th>2016</th>\n",
              "      <th>2017</th>\n",
              "      <th>2018</th>\n",
              "      <th>2019</th>\n",
              "      <th>2020</th>\n",
              "      <th>2021</th>\n",
              "    </tr>\n",
              "  </thead>\n",
              "  <tbody>\n",
              "    <tr>\n",
              "      <th>0</th>\n",
              "      <td>0.371501</td>\n",
              "      <td>1.314656</td>\n",
              "      <td>-0.103539</td>\n",
              "      <td>-0.10389</td>\n",
              "      <td>-0.103936</td>\n",
              "      <td>-0.104102</td>\n",
              "      <td>-0.103409</td>\n",
              "      <td>-0.102994</td>\n",
              "      <td>-0.102675</td>\n",
              "      <td>-0.10234</td>\n",
              "      <td>-0.102122</td>\n",
              "    </tr>\n",
              "    <tr>\n",
              "      <th>1</th>\n",
              "      <td>0.458192</td>\n",
              "      <td>1.314656</td>\n",
              "      <td>-0.103539</td>\n",
              "      <td>-0.10389</td>\n",
              "      <td>-0.103936</td>\n",
              "      <td>-0.104102</td>\n",
              "      <td>-0.103409</td>\n",
              "      <td>-0.102994</td>\n",
              "      <td>-0.102675</td>\n",
              "      <td>-0.10234</td>\n",
              "      <td>-0.102122</td>\n",
              "    </tr>\n",
              "    <tr>\n",
              "      <th>2</th>\n",
              "      <td>0.544884</td>\n",
              "      <td>1.314656</td>\n",
              "      <td>-0.103539</td>\n",
              "      <td>-0.10389</td>\n",
              "      <td>-0.103936</td>\n",
              "      <td>-0.104102</td>\n",
              "      <td>-0.103409</td>\n",
              "      <td>-0.102994</td>\n",
              "      <td>-0.102675</td>\n",
              "      <td>-0.10234</td>\n",
              "      <td>-0.102122</td>\n",
              "    </tr>\n",
              "    <tr>\n",
              "      <th>3</th>\n",
              "      <td>0.631575</td>\n",
              "      <td>1.314656</td>\n",
              "      <td>-0.103539</td>\n",
              "      <td>-0.10389</td>\n",
              "      <td>-0.103936</td>\n",
              "      <td>-0.104102</td>\n",
              "      <td>-0.103409</td>\n",
              "      <td>-0.102994</td>\n",
              "      <td>-0.102675</td>\n",
              "      <td>-0.10234</td>\n",
              "      <td>-0.102122</td>\n",
              "    </tr>\n",
              "    <tr>\n",
              "      <th>4</th>\n",
              "      <td>-1.102253</td>\n",
              "      <td>1.314656</td>\n",
              "      <td>-0.103539</td>\n",
              "      <td>-0.10389</td>\n",
              "      <td>-0.103936</td>\n",
              "      <td>-0.104102</td>\n",
              "      <td>-0.103409</td>\n",
              "      <td>-0.102994</td>\n",
              "      <td>-0.102675</td>\n",
              "      <td>-0.10234</td>\n",
              "      <td>-0.102122</td>\n",
              "    </tr>\n",
              "  </tbody>\n",
              "</table>\n",
              "</div>\n",
              "      <button class=\"colab-df-convert\" onclick=\"convertToInteractive('df-072a7783-0405-4d93-ab0f-8d919f491851')\"\n",
              "              title=\"Convert this dataframe to an interactive table.\"\n",
              "              style=\"display:none;\">\n",
              "        \n",
              "  <svg xmlns=\"http://www.w3.org/2000/svg\" height=\"24px\"viewBox=\"0 0 24 24\"\n",
              "       width=\"24px\">\n",
              "    <path d=\"M0 0h24v24H0V0z\" fill=\"none\"/>\n",
              "    <path d=\"M18.56 5.44l.94 2.06.94-2.06 2.06-.94-2.06-.94-.94-2.06-.94 2.06-2.06.94zm-11 1L8.5 8.5l.94-2.06 2.06-.94-2.06-.94L8.5 2.5l-.94 2.06-2.06.94zm10 10l.94 2.06.94-2.06 2.06-.94-2.06-.94-.94-2.06-.94 2.06-2.06.94z\"/><path d=\"M17.41 7.96l-1.37-1.37c-.4-.4-.92-.59-1.43-.59-.52 0-1.04.2-1.43.59L10.3 9.45l-7.72 7.72c-.78.78-.78 2.05 0 2.83L4 21.41c.39.39.9.59 1.41.59.51 0 1.02-.2 1.41-.59l7.78-7.78 2.81-2.81c.8-.78.8-2.07 0-2.86zM5.41 20L4 18.59l7.72-7.72 1.47 1.35L5.41 20z\"/>\n",
              "  </svg>\n",
              "      </button>\n",
              "      \n",
              "  <style>\n",
              "    .colab-df-container {\n",
              "      display:flex;\n",
              "      flex-wrap:wrap;\n",
              "      gap: 12px;\n",
              "    }\n",
              "\n",
              "    .colab-df-convert {\n",
              "      background-color: #E8F0FE;\n",
              "      border: none;\n",
              "      border-radius: 50%;\n",
              "      cursor: pointer;\n",
              "      display: none;\n",
              "      fill: #1967D2;\n",
              "      height: 32px;\n",
              "      padding: 0 0 0 0;\n",
              "      width: 32px;\n",
              "    }\n",
              "\n",
              "    .colab-df-convert:hover {\n",
              "      background-color: #E2EBFA;\n",
              "      box-shadow: 0px 1px 2px rgba(60, 64, 67, 0.3), 0px 1px 3px 1px rgba(60, 64, 67, 0.15);\n",
              "      fill: #174EA6;\n",
              "    }\n",
              "\n",
              "    [theme=dark] .colab-df-convert {\n",
              "      background-color: #3B4455;\n",
              "      fill: #D2E3FC;\n",
              "    }\n",
              "\n",
              "    [theme=dark] .colab-df-convert:hover {\n",
              "      background-color: #434B5C;\n",
              "      box-shadow: 0px 1px 3px 1px rgba(0, 0, 0, 0.15);\n",
              "      filter: drop-shadow(0px 1px 2px rgba(0, 0, 0, 0.3));\n",
              "      fill: #FFFFFF;\n",
              "    }\n",
              "  </style>\n",
              "\n",
              "      <script>\n",
              "        const buttonEl =\n",
              "          document.querySelector('#df-072a7783-0405-4d93-ab0f-8d919f491851 button.colab-df-convert');\n",
              "        buttonEl.style.display =\n",
              "          google.colab.kernel.accessAllowed ? 'block' : 'none';\n",
              "\n",
              "        async function convertToInteractive(key) {\n",
              "          const element = document.querySelector('#df-072a7783-0405-4d93-ab0f-8d919f491851');\n",
              "          const dataTable =\n",
              "            await google.colab.kernel.invokeFunction('convertToInteractive',\n",
              "                                                     [key], {});\n",
              "          if (!dataTable) return;\n",
              "\n",
              "          const docLinkHtml = 'Like what you see? Visit the ' +\n",
              "            '<a target=\"_blank\" href=https://colab.research.google.com/notebooks/data_table.ipynb>data table notebook</a>'\n",
              "            + ' to learn more about interactive tables.';\n",
              "          element.innerHTML = '';\n",
              "          dataTable['output_type'] = 'display_data';\n",
              "          await google.colab.output.renderOutput(dataTable, element);\n",
              "          const docLink = document.createElement('div');\n",
              "          docLink.innerHTML = docLinkHtml;\n",
              "          element.appendChild(docLink);\n",
              "        }\n",
              "      </script>\n",
              "    </div>\n",
              "  </div>\n",
              "  "
            ]
          },
          "metadata": {},
          "execution_count": 351
        }
      ]
    },
    {
      "cell_type": "markdown",
      "source": [
        "###**Main Function**"
      ],
      "metadata": {
        "id": "khq2N5K3FEEm"
      }
    },
    {
      "cell_type": "code",
      "source": [
        "##### Step 1 #####\n",
        "clustering = KMeans(dataset_np, k=3, max_iter=20)         # K Means Clustering for k = 3\n",
        "\n",
        "##### Step 2 #####\n",
        "score = SC(dataset_np, clustering[0])                     # Silhouette Score calculation\n",
        "print(f'The Silhouette Score on performing K Means clustering using k = 3 for 20 iterations is {score : .6f}.\\n')\n",
        "\n",
        "##### Step 3 #####\n",
        "print('---------------------------------------------------------------------')\n",
        "best_k = find_best_k(dataset_np)                          # computing the best value of k\n",
        "print(f'\\nThe best Silhouette Score is obtained for k = {best_k}.\\n')\n",
        "print('The clustering information for each value of k is saved in appropriate text files.\\n')\n",
        "\n",
        "##### Step 4 #####\n",
        "print('---------------------------------------------------------------------')\n",
        "clustering = CLDC(dataset_np, best_k)                     # performing CLDC using the best_k obtained\n",
        "score = SC(dataset_np,clustering[0])                      # Silhouette Score calculation\n",
        "print(f'\\nThe Silhouette Score on performing Complete Linkage Divisive Clustering using the optimal value of k is {score : .6f}.\\n')\n",
        "print('The clustering information of Complete Linkage Divisive Clustering is also saved in an appropriate text file.\\n')\n",
        "\n",
        "##### Final Step #####\n",
        "print('---------------------------------------------------------------------')\n",
        "clustering1 = KMeans(dataset_np, best_k)\n",
        "clustering2 = CLDC(dataset_np, best_k)\n",
        "scores = mapping_Jaccard(clustering1[1], clustering2[1])  # printing the Jaccard Similarity scores"
      ],
      "metadata": {
        "colab": {
          "base_uri": "https://localhost:8080/"
        },
        "id": "uKxfTS_GFB5K",
        "outputId": "0cdd9af1-fb55-45f5-b58e-e7debeb7711b"
      },
      "execution_count": 352,
      "outputs": [
        {
          "output_type": "stream",
          "name": "stdout",
          "text": [
            "The Silhouette Score on performing K Means clustering using k = 3 for 20 iterations is  0.532896.\n",
            "\n",
            "---------------------------------------------------------------------\n",
            "\n",
            "The Silhouette Score on using k = 3 is  0.532896\n",
            "\n",
            "The Silhouette Score on using k = 4 is  0.638726\n",
            "\n",
            "The Silhouette Score on using k = 5 is  0.700798\n",
            "\n",
            "The Silhouette Score on using k = 6 is  0.664164\n",
            "\n",
            "The best Silhouette Score is obtained for k = 5.\n",
            "\n",
            "The clustering information for each value of k is saved in appropriate text files.\n",
            "\n",
            "---------------------------------------------------------------------\n",
            "\n",
            "The Silhouette Score on performing Complete Linkage Divisive Clustering using the optimal value of k is  0.658933.\n",
            "\n",
            "The clustering information of Complete Linkage Divisive Clustering is also saved in an appropriate text file.\n",
            "\n",
            "---------------------------------------------------------------------\n",
            "\n",
            "The mapping of clusters is as follows : \n",
            "\n",
            "0 ---> 0\t1 ---> 1\t2 ---> 2\t3 ---> 3\t4 ---> 4\t\n",
            "The Jaccard Similarity values of the corresponding clusters are as follows : \n",
            "\n",
            " 0.755319\t 0.891089\t 0.872340\t 0.801980\t 0.571429\t"
          ]
        }
      ]
    },
    {
      "cell_type": "code",
      "source": [],
      "metadata": {
        "id": "4YqrjsfBaTya"
      },
      "execution_count": 352,
      "outputs": []
    }
  ]
}